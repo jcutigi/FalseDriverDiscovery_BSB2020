{
 "cells": [
  {
   "cell_type": "code",
   "execution_count": 7,
   "metadata": {},
   "outputs": [],
   "source": [
    "import pandas as pd\n",
    "import numpy as np\n",
    "import networkx as nx"
   ]
  },
  {
   "cell_type": "markdown",
   "metadata": {},
   "source": [
    "# Gene network:"
   ]
  },
  {
   "cell_type": "code",
   "execution_count": 8,
   "metadata": {},
   "outputs": [],
   "source": [
    "def read_network(network_file_name):\n",
    "    network = nx.read_edgelist(network_file_name, delimiter='\\t')\n",
    "    return network\n",
    "\n",
    "def write_network_edge_list(network, output_file_name):\n",
    "    nx.write_edgelist(network, output_file_name, data=False)\n",
    "    \n",
    "def leverageCentrality(G):\n",
    "    nodes = list(G.nodes)\n",
    "    degrees = G.degree\n",
    "    leverageCentrality ={}\n",
    "    for node in nodes:\n",
    "        if(len(list(G.neighbors(node)))==0):\n",
    "            leverageCentrality[node] = 0\n",
    "        else:\n",
    "            leverage=0\n",
    "            for n in G.neighbors(node):\n",
    "                leverage += (degrees[node]-degrees[n]) / (degrees[node]+degrees[n])\n",
    "\n",
    "            leverageCentrality[node] = round(((1/degrees[node]) * leverage),4)\n",
    "\n",
    "    return leverageCentrality\n",
    "\n",
    "def averageNeighborDegree(G):\n",
    "    nodes = list(G.nodes)\n",
    "    degrees = G.degree\n",
    "    avgDegree = st.mean([t[1] for t in degrees])\n",
    "    averageNeighborDegree ={}\n",
    "    for node in nodes:\n",
    "        neighborsDegree=0\n",
    "        if(len(list(G.neighbors(node)))==0):\n",
    "            averageNeighborDegree[node] = 0\n",
    "        else:\n",
    "            for n in G.neighbors(node):\n",
    "                neighborsDegree += degrees[n]\n",
    "\n",
    "            averageNeighborDegree[node] = neighborsDegree/len(list(G.neighbors(node)))\n",
    "\n",
    "    return averageNeighborDegree\n",
    "\n",
    "def bridgingCentrality(G):\n",
    "    nodes = list(G.nodes)\n",
    "    degrees = G.degree\n",
    "    bet = nx.betweenness_centrality(G)\n",
    "    bridging_centrality={}\n",
    "\n",
    "    for node in nodes:\n",
    "        if(degrees[node]!=0):\n",
    "            nodeDegreeInverse = degrees[node]**-1\n",
    "            neighborsDegreeInverse=0\n",
    "            for n in G.neighbors(node):\n",
    "                neighborsDegreeInverse += degrees[n]**-1\n",
    "\n",
    "            bridging_centrality[node] = (nodeDegreeInverse/neighborsDegreeInverse) * bet[node]\n",
    "        else:\n",
    "            bridging_centrality[node] = 0\n",
    "    return bridging_centrality\n",
    "\n",
    "def get_df_degree_centrality(network, output_file_name):\n",
    "    centrality = nx.degree_centrality(network)\n",
    "    degree_df = pd.DataFrame([centrality]).T\n",
    "    degree_df.columns=[\"degree\"]\n",
    "    degree_df.index.name = 'gene'\n",
    "    degree_df.to_csv(output_file_name, sep=\"\\t\", index=True)\n",
    "\n",
    "def get_df_closeness_centrality(network, output_file_name):\n",
    "    centrality = nx.closeness_centrality(network)\n",
    "    closeness_df = pd.DataFrame([centrality]).T\n",
    "    closeness_df.columns=[\"closeness\"]\n",
    "    closeness_df.index.name = 'gene'\n",
    "    closeness_df.to_csv(output_file_name, sep=\"\\t\", index=True)\n",
    "\n",
    "def get_df_betweenness_centrality(network, output_file_name):\n",
    "    centrality = nx.betweenness_centrality(network)\n",
    "    betweenness_df = pd.DataFrame([centrality]).T\n",
    "    betweenness_df.columns=[\"betweenness\"]\n",
    "    betweenness_df.index.name = 'gene'\n",
    "    betweenness_df.to_csv(output_file_name, sep=\"\\t\", index=True)\n",
    "\n",
    "def get_df_eigenvector_centrality(network, output_file_name):\n",
    "    centrality = nx.eigenvector_centrality(network, max_iter = 1000)\n",
    "    eigenvector_df = pd.DataFrame([centrality]).T\n",
    "    eigenvector_df.columns=[\"eigenvector\"]\n",
    "    eigenvector_df.index.name = 'gene'\n",
    "    eigenvector_df.to_csv(output_file_name, sep=\"\\t\", index=True)\n",
    "\n",
    "def get_df_kcore(network, output_file_name):\n",
    "    kc = nx.core_number(network)\n",
    "    kc_df = pd.DataFrame([kc]).T\n",
    "    kc_df.columns=[\"kcore\"]\n",
    "    kc_df.index.name = 'gene'\n",
    "    kc_df.to_csv(output_file_name, sep=\"\\t\", index=True)\n",
    "\n",
    "def get_df_clustering_coefficient(network, output_file_name):\n",
    "    cc = {}\n",
    "    for gene in network.nodes():\n",
    "        cc[gene] = nx.clustering(network, gene)\n",
    "    cc_df = pd.DataFrame([cc]).T\n",
    "    cc_df.columns=[\"clusteringcoeff\"]\n",
    "    cc_df.index.name = 'gene'\n",
    "    cc_df.to_csv(output_file_name, sep=\"\\t\", index=True)\n",
    "\n",
    "def get_df_average_neighbors_centrality(network, output_file_name):\n",
    "    centrality = averageNeighborDegree(network)\n",
    "    average_neighbors = pd.DataFrame([centrality]).T\n",
    "    average_neighbors.columns=[\"average_neighbors\"]\n",
    "    average_neighbors.index.name = 'gene'\n",
    "    average_neighbors.to_csv(output_file_name, sep=\"\\t\", index=True) \n",
    "\n",
    "def get_df_leverage_centrality(network, output_file_name):\n",
    "    centrality = leverageCentrality(network)\n",
    "    leverage = pd.DataFrame([centrality]).T\n",
    "    leverage.columns=[\"leverage\"]\n",
    "    leverage.index.name = 'gene'\n",
    "    leverage.to_csv(output_file_name, sep=\"\\t\", index=True)\n",
    "\n",
    "def get_df_information_centrality(network, output_file_name):\n",
    "    #Only One CC\n",
    "    network = network.subgraph(max(nx.connected_components(network), key=len))\n",
    "    centrality = nx.information_centrality(network)\n",
    "    information_df = pd.DataFrame([centrality]).T\n",
    "    information_df.columns=[\"information\"]\n",
    "    information_df.index.name = 'gene'\n",
    "    information_df.to_csv(output_file_name, sep=\"\\t\", index=True) \n",
    "    \n",
    "def get_df_bridging_centrality(network, output_file_name):\n",
    "    centrality = bridgingCentrality(network)\n",
    "    bridging = pd.DataFrame([centrality]).T\n",
    "    bridging.columns=[\"bridging\"]\n",
    "    bridging.index.name = 'gene'\n",
    "    bridging.to_csv(output_file_name, sep=\"\\t\", index=True) "
   ]
  },
  {
   "cell_type": "markdown",
   "metadata": {},
   "source": [
    "# Mutation data:"
   ]
  },
  {
   "cell_type": "code",
   "execution_count": 19,
   "metadata": {},
   "outputs": [
    {
     "name": "stdout",
     "output_type": "stream",
     "text": [
      "laml_tcga_pan_can_atlas_2018 4831 200 7284\n",
      "acc_tcga_pan_can_atlas_2018 5546 91 8108\n",
      "blca_tcga_pan_can_atlas_2018 17115 410 102469\n",
      "lgg_tcga_pan_can_atlas_2018 11817 511 28754\n",
      "brca_tcga_pan_can_atlas_2018 17171 1066 94948\n",
      "cesc_tcga_pan_can_atlas_2018 15466 291 56952\n",
      "chol_tcga_pan_can_atlas_2018 1828 36 2125\n",
      "coadread_tcga_pan_can_atlas_2018 18349 534 209731\n",
      "dlbc_tcga_pan_can_atlas_2018 3343 41 4940\n",
      "esca_tcga_pan_can_atlas_2018 11369 182 26786\n",
      "gbm_tcga_pan_can_atlas_2018 14182 396 47139\n",
      "hnsc_tcga_pan_can_atlas_2018 16089 515 76774\n",
      "kich_tcga_pan_can_atlas_2018 1914 65 2170\n",
      "kirc_tcga_pan_can_atlas_2018 10293 402 20785\n",
      "kirp_tcga_pan_can_atlas_2018 10372 276 20708\n",
      "lihc_tcga_pan_can_atlas_2018 13447 366 37918\n",
      "luad_tcga_pan_can_atlas_2018 17491 566 160266\n",
      "lusc_tcga_pan_can_atlas_2018 17222 484 129714\n",
      "meso_tcga_pan_can_atlas_2018 2392 86 2813\n",
      "ov_tcga_pan_can_atlas_2018 13567 523 39504\n",
      "paad_tcga_pan_can_atlas_2018 10252 177 21110\n",
      "pcpg_tcga_pan_can_atlas_2018 1798 178 2092\n",
      "prad_tcga_pan_can_atlas_2018 11343 494 25260\n",
      "sarc_tcga_pan_can_atlas_2018 10368 254 21843\n",
      "skcm_tcga_pan_can_atlas_2018 18358 440 328591\n",
      "stad_tcga_pan_can_atlas_2018 17605 435 149896\n",
      "tgct_tcga_pan_can_atlas_2018 2012 144 2337\n",
      "thym_tcga_pan_can_atlas_2018 2406 123 2835\n",
      "thca_tcga_pan_can_atlas_2018 5273 489 7994\n",
      "ucs_tcga_pan_can_atlas_2018 5601 57 8093\n",
      "ucec_tcga_pan_can_atlas_2018 19121 517 540733\n",
      "uvm_tcga_pan_can_atlas_2018 1173 80 1401\n"
     ]
    }
   ],
   "source": [
    "# Get mutation files from cBioPortal, using API\n",
    "from bravado.client import SwaggerClient\n",
    "\n",
    "cbioportal = SwaggerClient.from_url('https://www.cbioportal.org/api/api-docs',\n",
    "                                config={\"validate_requests\":False,\"validate_responses\":False})\n",
    "\n",
    "for a in dir(cbioportal):\n",
    "    cbioportal.__setattr__(a.replace(' ', '_').lower(), cbioportal.__getattr__(a))\n",
    "\n",
    "id_study_list = [\"laml\", \"acc\", \"blca\", \"lgg\", \"brca\", \"cesc\", \"chol\", \"coadread\", \"dlbc\", \"esca\",\n",
    "                 \"gbm\", \"hnsc\", \"kich\", \"kirc\", \"kirp\", \"lihc\", \"luad\", \"lusc\", \"meso\", \"ov\",\n",
    "                 \"paad\", \"pcpg\", \"prad\", \"sarc\", \"skcm\", \"stad\", \"tgct\", \"thym\", \"thca\", \"ucs\",\n",
    "                 \"ucec\", \"uvm\"]\n",
    "\n",
    "for id_study in id_study_list:\n",
    "    id_study = id_study + \"_tcga_pan_can_atlas_2018\"\n",
    "\n",
    "    muts = cbioportal.mutations.getMutationsInMolecularProfileBySampleListIdUsingGET(\n",
    "        molecularProfileId = id_study +\"_mutations\", # {study_id}_mutations gives default mutations profile for study \n",
    "        sampleListId = id_study + \"_all\", # {study_id}_all includes all samples\n",
    "        projection=\"DETAILED\" # include gene info\n",
    "    ).result()\n",
    "\n",
    "    maf=[]  \n",
    "    for mut in muts:\n",
    "        line=[]\n",
    "        line.append(mut[\"gene\"][\"hugoGeneSymbol\"])\n",
    "        line.append(mut[\"sampleId\"])\n",
    "        line.append(mut[\"mutationType\"])\n",
    "        maf.append(line)\n",
    "        \n",
    "    maf = pd.DataFrame(maf,columns = [\"Hugo_Symbol\", \"Tumor_Sample_Barcode\", \"Variant_Classification\"])\n",
    "    num_genes = len(set(maf[\"Hugo_Symbol\"]))\n",
    "    num_patients = len(set(maf[\"Tumor_Sample_Barcode\"]))\n",
    "    num_mutations = maf.shape[0]\n",
    "    print(id_study, num_genes, num_patients, num_mutations)\n",
    "    write_maf(maf, \"./data/MAFs/\"+id_study+\"_raw.maf\")"
   ]
  },
  {
   "cell_type": "code",
   "execution_count": 15,
   "metadata": {},
   "outputs": [
    {
     "name": "stdout",
     "output_type": "stream",
     "text": [
      "laml_tcga_pan_can_atlas_2018 4831 200 7284\n",
      "acc_tcga_pan_can_atlas_2018 5546 91 8108\n",
      "blca_tcga_pan_can_atlas_2018 17115 410 102469\n",
      "lgg_tcga_pan_can_atlas_2018 11817 511 28754\n",
      "brca_tcga_pan_can_atlas_2018 17171 1066 94948\n",
      "cesc_tcga_pan_can_atlas_2018 15466 291 56952\n",
      "chol_tcga_pan_can_atlas_2018 1828 36 2125\n",
      "coadread_tcga_pan_can_atlas_2018 18349 534 209731\n",
      "dlbc_tcga_pan_can_atlas_2018 3343 41 4940\n",
      "esca_tcga_pan_can_atlas_2018 11369 182 26786\n",
      "gbm_tcga_pan_can_atlas_2018 14182 396 47139\n",
      "hnsc_tcga_pan_can_atlas_2018 16089 515 76774\n",
      "kich_tcga_pan_can_atlas_2018 1914 65 2170\n",
      "kirc_tcga_pan_can_atlas_2018 10293 402 20785\n",
      "kirp_tcga_pan_can_atlas_2018 10372 276 20708\n",
      "lihc_tcga_pan_can_atlas_2018 13447 366 37918\n",
      "luad_tcga_pan_can_atlas_2018 17491 566 160266\n",
      "lusc_tcga_pan_can_atlas_2018 17222 484 129714\n",
      "meso_tcga_pan_can_atlas_2018 2392 86 2813\n",
      "ov_tcga_pan_can_atlas_2018 13567 523 39504\n",
      "paad_tcga_pan_can_atlas_2018 10252 177 21110\n",
      "pcpg_tcga_pan_can_atlas_2018 1798 178 2092\n",
      "prad_tcga_pan_can_atlas_2018 11343 494 25260\n",
      "sarc_tcga_pan_can_atlas_2018 10368 254 21843\n",
      "skcm_tcga_pan_can_atlas_2018 18358 440 328591\n",
      "stad_tcga_pan_can_atlas_2018 17605 435 149896\n",
      "tgct_tcga_pan_can_atlas_2018 2012 144 2337\n",
      "thym_tcga_pan_can_atlas_2018 2406 123 2835\n",
      "thca_tcga_pan_can_atlas_2018 5273 489 7994\n",
      "ucs_tcga_pan_can_atlas_2018 5601 57 8093\n",
      "ucec_tcga_pan_can_atlas_2018 19121 517 540733\n",
      "uvm_tcga_pan_can_atlas_2018 1173 80 1401\n"
     ]
    }
   ],
   "source": [
    "id_study_list = [\"laml\", \"acc\", \"blca\", \"lgg\", \"brca\", \"cesc\", \"chol\", \"coadread\", \"dlbc\", \"esca\",\n",
    "                 \"gbm\", \"hnsc\", \"kich\", \"kirc\", \"kirp\", \"lihc\", \"luad\", \"lusc\", \"meso\", \"ov\",\n",
    "                 \"paad\", \"pcpg\", \"prad\", \"sarc\", \"skcm\", \"stad\", \"tgct\", \"thym\", \"thca\", \"ucs\",\n",
    "                 \"ucec\", \"uvm\"]\n",
    "\n",
    "maf_list = []\n",
    "for id_study in id_study_list:\n",
    "    id_study_raw = \"./data/MAFs/\" + id_study + \"_tcga_pan_can_atlas_2018_raw.maf\"\n",
    "    id_study = id_study + \"_tcga_pan_can_atlas_2018\"\n",
    "    maf = pd.read_csv(id_study_raw, sep='\\t')\n",
    "    #maf = filter_by_variants(maf)\n",
    "    #mutations_per_patient = get_mutations_per_patient(maf)\n",
    "    #maf = remove_hipermutated_patients(maf, mutations_per_patient)\n",
    "    num_genes = len(set(maf[\"Hugo_Symbol\"]))\n",
    "    num_patients = len(set(maf[\"Tumor_Sample_Barcode\"]))\n",
    "    num_mutations = maf.shape[0]\n",
    "    print(id_study, num_genes, num_patients, num_mutations)\n",
    "    write_maf(maf, \"./data/MAFs/\"+id_study+\".maf\")\n",
    "    maf_list.append(maf)\n",
    "maf_full = pd.concat(maf_list, ignore_index=False)\n",
    "#write_maf(maf_full, \"./data/MAFs/Mutation_Cell2018.maf\")"
   ]
  },
  {
   "cell_type": "code",
   "execution_count": null,
   "metadata": {},
   "outputs": [],
   "source": []
  },
  {
   "cell_type": "code",
   "execution_count": 16,
   "metadata": {},
   "outputs": [
    {
     "name": "stdout",
     "output_type": "stream",
     "text": [
      "MAF de 33 tipos de cancer - TCGA Cell 2018\n",
      "Numero de genes: 20072\n",
      "Numero de pacientes: 10429\n",
      "Numero de Mutacoes: 2192073\n"
     ]
    }
   ],
   "source": [
    "print(\"MAF de 33 tipos de cancer - TCGA Cell 2018\")\n",
    "print(\"Numero de genes:\", len(set(maf_full[\"Hugo_Symbol\"])))\n",
    "print(\"Numero de pacientes:\", len(set(maf_full[\"Tumor_Sample_Barcode\"])))\n",
    "print(\"Numero de Mutacoes:\", maf_full.shape[0])"
   ]
  },
  {
   "cell_type": "code",
   "execution_count": 16,
   "metadata": {
    "scrolled": false
   },
   "outputs": [],
   "source": [
    "def get_mutation_count(maf):\n",
    "    mutation_count = pd.crosstab(maf.Hugo_Symbol, maf.Variant_Classification)\n",
    "    return mutation_count\n",
    "\n",
    "def get_patient_count(maf):\n",
    "    patient_count = pd.pivot_table(maf, index=[\"Hugo_Symbol\"], values=[\"Tumor_Sample_Barcode\"], aggfunc=len)\n",
    "    patient_count = patient_count.rename(columns={\"Tumor_Sample_Barcode\": \"nr_patients\"})\n",
    "    return patient_count\n",
    "\n",
    "def filter_by_variants(maf):\n",
    "    variants_to_keep = ['Frame_Shift_Del','Frame_Shift_Ins','In_Frame_Del','In_Frame_Ins','Missense_Mutation','Nonsense_Mutation','Nonstop_Mutation','Splice_Site','Translation_Start_Site']\n",
    "    maf = maf[maf.Variant_Classification.isin(variants_to_keep)]\n",
    "    return maf\n",
    "\n",
    "def get_mutations_per_patient(maf):\n",
    "    mutations_per_patient = {}\n",
    "    patients = set(maf[\"Tumor_Sample_Barcode\"])\n",
    "    for patient in patients:\n",
    "        maf_one_gene = maf[maf.Tumor_Sample_Barcode.isin([patient])]\n",
    "        mutations_per_patient[patient] = len(maf_one_gene)\n",
    "    return mutations_per_patient\n",
    "\n",
    "def remove_hipermutated_patients(maf, mutations_per_patient):\n",
    "    mutations_per_patient_count = list(mutations_per_patient.values())\n",
    "    q1 = np.quantile(mutations_per_patient_count, .25)\n",
    "    q2 = np.quantile(mutations_per_patient_count, .50)\n",
    "    q3 = np.quantile(mutations_per_patient_count, .75)\n",
    "    iqr = q3 - q1\n",
    "    threshold_hm = q3 + 4.5 * iqr\n",
    "    mutations_per_patient_filtered = dict(filter(lambda elem: elem[1] <= threshold_hm, mutations_per_patient.items()))\n",
    "    maf = maf[maf.Tumor_Sample_Barcode.isin(list(mutations_per_patient_filtered))]\n",
    "    return maf\n",
    "\n",
    "def write_maf(maf, output_file_name):\n",
    "    maf.to_csv(output_file_name, sep='\\t', index=False)\n",
    "\n",
    "def get_df_mutation_data(input_maf_file_name, output_file_name): \n",
    "    maf = pd.read_csv(input_maf_file_name, sep=\"\\t\", comment='#', usecols=[\"Hugo_Symbol\", \"Tumor_Sample_Barcode\", \"Variant_Classification\"])\n",
    "    mutation_count = get_mutation_count(maf)\n",
    "    patient_count = get_patient_count(maf)\n",
    "\n",
    "    genes = set(maf[\"Hugo_Symbol\"])\n",
    "    \n",
    "    features = list(patient_count) + list(mutation_count)\n",
    "    df = pd.DataFrame(index=genes, columns=features)\n",
    "    df.index.name = 'gene'\n",
    "    df = df.fillna(0)\n",
    "    df.update(mutation_count)\n",
    "    df.update(patient_count)\n",
    "    df.to_csv(output_file_name, sep=\"\\t\", index=True) \n",
    "\n",
    "#input_maf_file_name = \"./data/MAFs/Mutation_Cell2018.maf\"\n",
    "#get_df_mutation_data(input_maf_file_name, \"./data/Mutation_Cell2018.tsv\")"
   ]
  },
  {
   "cell_type": "markdown",
   "metadata": {},
   "source": [
    "# Driver benchmark:"
   ]
  },
  {
   "cell_type": "code",
   "execution_count": 11,
   "metadata": {},
   "outputs": [
    {
     "name": "stdout",
     "output_type": "stream",
     "text": [
      "711\n",
      "723\n",
      "729\n",
      "250\n",
      "930\n",
      "49\n"
     ]
    },
    {
     "data": {
      "text/plain": [
       "driver            680\n",
       "false_positive    250\n",
       "Name: class, dtype: int64"
      ]
     },
     "execution_count": 11,
     "metadata": {},
     "output_type": "execute_result"
    }
   ],
   "source": [
    "def get_df_benchmark_genes_two_classes(output_file_name):\n",
    "    ncg_driver_file_name = \"./benchmarks/NCG6_tsgoncogene_2020-05-01.tsv\"\n",
    "    cosmic_driver_file_name = \"./benchmarks/CGC_COSMIC_Census_2020-05-01.csv\"\n",
    "    ncg_false_positives_file_name = \"./benchmarks/NCG6_false_positives_2020-05-01.txt\"\n",
    "    \n",
    "    ncg_driver = pd.read_csv(ncg_driver_file_name, sep='\\t', usecols=[\"symbol\"])\n",
    "    cosmic_driver = pd.read_csv(cosmic_driver_file_name, sep=',', usecols=[\"Gene Symbol\"])\n",
    "    ncg_false_positives = pd.read_csv(ncg_false_positives_file_name, sep='\\t', usecols=[\"symbol\"])\n",
    "\n",
    "    ncg_driver_genes = list(ncg_driver[\"symbol\"])\n",
    "    print(len(ncg_driver_genes))\n",
    "    cosmic_driver_genes = list(cosmic_driver[\"Gene Symbol\"])\n",
    "    print(len(cosmic_driver_genes))\n",
    "    benchmark_driver_genes = set(ncg_driver_genes) | set(cosmic_driver_genes)\n",
    "    print(len(benchmark_driver_genes))\n",
    "    benchmark_false_positives_genes = set(ncg_false_positives[\"symbol\"])\n",
    "    print(len(benchmark_false_positives_genes))\n",
    "    genes = benchmark_driver_genes | benchmark_false_positives_genes\n",
    "    print(len(genes))\n",
    "    intersect_genes = benchmark_driver_genes & benchmark_false_positives_genes\n",
    "    print(len(intersect_genes))\n",
    "\n",
    "    benchmark_df = pd.DataFrame(index=genes, columns=[\"class\"])\n",
    "    for gene in genes:\n",
    "        if gene in benchmark_false_positives_genes:\n",
    "            benchmark_df.at[gene, \"class\"] = \"false_positive\"\n",
    "        elif gene in benchmark_driver_genes:\n",
    "            benchmark_df.at[gene, \"class\"] = \"driver\"\n",
    "    benchmark_df.index.name = 'gene'\n",
    "    #benchmark_df.to_csv(output_file_name, sep=\"\\t\", index=True)\n",
    "    return benchmark_df\n",
    "\n",
    "benchmark_df = get_df_benchmark_genes_two_classes(\"benchmark_2classes.tsv\")\n",
    "benchmark_df[\"class\"].value_counts()\n",
    "#benchmark_df"
   ]
  },
  {
   "cell_type": "markdown",
   "metadata": {},
   "source": [
    "# Creating dataframe:"
   ]
  },
  {
   "cell_type": "code",
   "execution_count": 4,
   "metadata": {},
   "outputs": [
    {
     "name": "stdout",
     "output_type": "stream",
     "text": [
      "./data/MutationCell2018_Reactome_HPRD_HuRI_HINT.tsv\n"
     ]
    }
   ],
   "source": [
    "def create_data_set(num_classes, mutation_file_name, network_names):\n",
    "    for network_name in network_names:\n",
    "        files = []\n",
    "        files.append(mutation_file_name)\n",
    "        files.append(\"./data/degree_\" + network_name + \".tsv\")\n",
    "        files.append(\"./data/closeness_\" + network_name + \".tsv\")\n",
    "        files.append(\"./data/betweenness_\" + network_name + \".tsv\")\n",
    "        files.append(\"./data/eigenvector_\" + network_name + \".tsv\")\n",
    "        files.append(\"./data/kcore_\" + network_name + \".tsv\")\n",
    "        files.append(\"./data/clusteringcoeff_\" + network_name + \".tsv\")\n",
    "        files.append(\"./data/leverage_\" + network_name + \".tsv\")\n",
    "        files.append(\"./data/information_\" + network_name + \".tsv\")\n",
    "        files.append(\"./data/bridging_\" + network_name + \".tsv\")\n",
    "        files.append(\"./data/average_neighbors_\" + network_name + \".tsv\")\n",
    "\n",
    "        if num_classes == 2:\n",
    "            class_file = \"./data/benchmark_2classes.tsv\"\n",
    "        elif num_classes == 3:\n",
    "            class_file = \"./data/benchmark_3classes.tsv\"\n",
    "        else:\n",
    "            print(\"ERROR\")\n",
    "            return\n",
    "\n",
    "        df = pd.read_csv(files[0], sep=\"\\t\")\n",
    "        df = df.set_index(\"gene\")\n",
    "        i = 1\n",
    "        while i < len(files):\n",
    "            df_i = pd.read_csv(files[i], sep=\"\\t\")\n",
    "            df_i = df_i.set_index(\"gene\")\n",
    "            df = pd.merge(df, df_i, on=\"gene\")\n",
    "            i = i + 1\n",
    "\n",
    "        df_class = pd.read_csv(class_file, sep=\"\\t\")\n",
    "        df_class = df_class.set_index(\"gene\")    \n",
    "        df = pd.merge(df, df_class, on=\"gene\", how=\"left\")\n",
    "\n",
    "        output_file_name = \"./data/MutationCell2018_\"+ network_name + \".tsv\"\n",
    "        df.to_csv(output_file_name, sep=\"\\t\", index=True)\n",
    "        print(output_file_name)\n",
    "        #return df\n",
    "\n",
    "network_names = [\"Reactome\", \"HPRD\", \"HINT\", \"HuRI\", \"STRING400\",\n",
    "                 \"eReactome\", \"eHPRD\", \"eHINT\", \"eHuRI\",\n",
    "                 \"Reactome_HPRD_HuRI_HINT\", \"eReactome_eHPRD_eHuRI_eHINT\",\n",
    "                 \"Reactome_HuRI_HINT_STRING400\", \"Reactome_HPRD_HuRI_HINT_STRING400\"]\n",
    "network_names = [\"Reactome_HPRD_HuRI_HINT\"]\n",
    "\n",
    "mutation_file_name = \"./data/Mutation_Cell2018.tsv\"\n",
    "\n",
    "create_data_set(2, mutation_file_name, network_names)"
   ]
  },
  {
   "cell_type": "code",
   "execution_count": 53,
   "metadata": {},
   "outputs": [
    {
     "name": "stdout",
     "output_type": "stream",
     "text": [
      "driver            561\n",
      "false_positive    205\n",
      "Name: class, dtype: int64\n",
      "possible_driver    985\n",
      "driver             561\n",
      "false_positive     205\n",
      "Name: class, dtype: int64\n"
     ]
    }
   ],
   "source": [
    "gbm_df_2classes = pd.read_csv(\"./data/GBM_data_2classes.tsv\", sep=\"\\t\")\n",
    "gbm_df_3classes = pd.read_csv(\"./data/GBM_data_3classes.tsv\", sep=\"\\t\")\n",
    "\n",
    "print(gbm_df_2classes[\"class\"].value_counts())\n",
    "print(gbm_df_3classes[\"class\"].value_counts())"
   ]
  },
  {
   "cell_type": "code",
   "execution_count": null,
   "metadata": {},
   "outputs": [],
   "source": []
  },
  {
   "cell_type": "code",
   "execution_count": 55,
   "metadata": {},
   "outputs": [
    {
     "name": "stdout",
     "output_type": "stream",
     "text": [
      "(576, 6)\n",
      "(2901, 6)\n",
      "(1420, 6)\n",
      "(7182, 6)\n",
      "(1956, 6)\n",
      "(132, 6)\n",
      "(9039, 6)\n",
      "(236, 6)\n",
      "(1607, 6)\n",
      "(1660, 6)\n",
      "(3046, 6)\n",
      "(116, 6)\n",
      "(2077, 6)\n",
      "(2008, 6)\n",
      "(2321, 6)\n",
      "(5691, 6)\n",
      "(4856, 6)\n",
      "(188, 6)\n",
      "(2181, 6)\n",
      "(682, 6)\n",
      "(111, 6)\n",
      "(1181, 6)\n",
      "(805, 6)\n",
      "(5498, 6)\n",
      "(9036, 6)\n",
      "(216, 6)\n",
      "(259, 6)\n",
      "(379, 6)\n",
      "(408, 6)\n",
      "(11294, 6)\n",
      "(54, 6)\n"
     ]
    }
   ],
   "source": [
    "def get_df_mutation_data(maf, output_file_name): \n",
    "    mutation_count = get_mutation_count(maf)\n",
    "    patient_count = get_patient_count(maf)\n",
    "\n",
    "    genes = set(maf[\"Hugo_Symbol\"])\n",
    "    \n",
    "    features = list(patient_count) + list(mutation_count)\n",
    "    df = pd.DataFrame(index=genes, columns=features)\n",
    "    df.index.name = 'gene'\n",
    "    df = df.fillna(0)\n",
    "    df.update(mutation_count)\n",
    "    df.update(patient_count)\n",
    "    df.to_csv(output_file_name, sep=\"\\t\", index=True) \n",
    "\n",
    "keep_mut = [\"Nonstop_Mutation\", \"nr_patients\", \"Splice_Site\", \"In_Frame_Del\", \"Frame_Shift_Del\"]\n",
    "keep_net = [\"eigenvector\", \"degree\", \"closeness\"]\n",
    "\n",
    "id_study_list = [\"laml\", \"acc\", \"blca\", \"lgg\", \"brca\", \"cesc\", \"chol\", \"coadread\", \"dlbc\", \"esca\",\n",
    "                 \"gbm\", \"hnsc\", \"kich\", \"kirc\", \"kirp\", \"lihc\", \"luad\", \"lusc\", \"meso\", \"ov\",\n",
    "                 \"paad\", \"pcpg\", \"prad\", \"sarc\", \"skcm\", \"stad\", \"tgct\", \"thym\", \"thca\", \"ucs\",\n",
    "                 \"ucec\", \"uvm\"]\n",
    "\n",
    "# for id_study in id_study_list:\n",
    "#     maf = pd.read_csv(\"./data/MAFs/\" + id_study + \"_tcga_pan_can_atlas_2018.maf\", sep='\\t')\n",
    "#     maf = maf[maf.Variant_Classification.isin(keep_mut)]\n",
    "#     output_file_name = \"./data/\" + id_study + \"_mutation_tcga_pan_can_atlas_2018.tsv\"\n",
    "#     get_df_mutation_data(maf, output_file_name)\n",
    "\n",
    "id_study = \"laml\"\n",
    "df_full = pd.read_csv(\"./data/\" + id_study + \"_mutation_tcga_pan_can_atlas_2018.tsv\", sep=\"\\t\")\n",
    "for i in range(1, len(id_study_list)):\n",
    "    id_study = id_study_list[i]\n",
    "    df1 = pd.read_csv(\"./data/\" + id_study + \"_mutation_tcga_pan_can_atlas_2018.tsv\", sep=\"\\t\")\n",
    "    print(df1.shape)\n",
    "    df_full = pd.merge(df_full, df1, on=\"gene\", how=\"outer\")\n",
    "\n",
    "#write_maf(maf_full, \"./data/MAFs/Mutation_Cell2018.maf\")\n"
   ]
  },
  {
   "cell_type": "code",
   "execution_count": 26,
   "metadata": {},
   "outputs": [
    {
     "data": {
      "text/plain": [
       "(1228126, 3)"
      ]
     },
     "execution_count": 26,
     "metadata": {},
     "output_type": "execute_result"
    }
   ],
   "source": [
    "maf = pd.read_csv(\"./data/MAFs/Mutation_Cell2018.maf\", sep=\"\\t\")\n",
    "maf.shape"
   ]
  },
  {
   "cell_type": "code",
   "execution_count": 24,
   "metadata": {},
   "outputs": [
    {
     "name": "stdout",
     "output_type": "stream",
     "text": [
      "MAF de 33 tipos de cancer - TCGA Cell 2018\n",
      "Numero de genes: 19184\n",
      "Numero de pacientes: 9741\n",
      "Numero de Mutacoes: 1228126\n"
     ]
    }
   ],
   "source": [
    "print(\"MAF de 33 tipos de cancer - TCGA Cell 2018\")\n",
    "print(\"Numero de genes:\", len(set(maf[\"Hugo_Symbol\"])))\n",
    "print(\"Numero de pacientes:\", len(set(maf[\"Tumor_Sample_Barcode\"])))\n",
    "print(\"Numero de Mutacoes:\", maf.shape[0])"
   ]
  },
  {
   "cell_type": "code",
   "execution_count": 3,
   "metadata": {},
   "outputs": [],
   "source": [
    "gene_network_file_name = \"./data/Reactome_HPRD_HuRI_HINT.txt\"\n",
    "#gene_network_file_name = \"/home/cutigi/Documents/Networks/Reactome/Reactome.txt\"\n",
    "network = nx.read_edgelist(gene_network_file_name, delimiter=' ')"
   ]
  },
  {
   "cell_type": "code",
   "execution_count": 4,
   "metadata": {},
   "outputs": [
    {
     "data": {
      "text/plain": [
       "18959"
      ]
     },
     "execution_count": 4,
     "metadata": {},
     "output_type": "execute_result"
    }
   ],
   "source": [
    "len(network)"
   ]
  },
  {
   "cell_type": "code",
   "execution_count": 5,
   "metadata": {},
   "outputs": [
    {
     "data": {
      "text/plain": [
       "372583"
      ]
     },
     "execution_count": 5,
     "metadata": {},
     "output_type": "execute_result"
    }
   ],
   "source": [
    "network.number_of_edges()"
   ]
  }
 ],
 "metadata": {
  "kernelspec": {
   "display_name": "Python 3",
   "language": "python",
   "name": "python3"
  },
  "language_info": {
   "codemirror_mode": {
    "name": "ipython",
    "version": 3
   },
   "file_extension": ".py",
   "mimetype": "text/x-python",
   "name": "python",
   "nbconvert_exporter": "python",
   "pygments_lexer": "ipython3",
   "version": "3.7.7"
  }
 },
 "nbformat": 4,
 "nbformat_minor": 2
}
